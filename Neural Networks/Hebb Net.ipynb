{
 "cells": [
  {
   "cell_type": "code",
   "execution_count": 1,
   "id": "7e5db6bf",
   "metadata": {},
   "outputs": [],
   "source": [
    "import pandas as pd\n",
    "import numpy as np"
   ]
  },
  {
   "cell_type": "code",
   "execution_count": 2,
   "id": "5aea58ad",
   "metadata": {},
   "outputs": [],
   "source": [
    "X = [[-1,-1],\n",
    "    [-1,1],\n",
    "    [1,-1],\n",
    "    [1,1]]\n",
    "\n",
    "y = [-1,-1,-1,1]"
   ]
  },
  {
   "cell_type": "code",
   "execution_count": 3,
   "id": "6569f923",
   "metadata": {},
   "outputs": [],
   "source": [
    "w1 = 0\n",
    "w2 = 0"
   ]
  },
  {
   "cell_type": "code",
   "execution_count": 4,
   "id": "7c31ecc3",
   "metadata": {},
   "outputs": [],
   "source": [
    "def weight_updation(old_weight,x,y):\n",
    "    det_weight = x*y\n",
    "    new_weight = old_weight + det_weight\n",
    "    return new_weight"
   ]
  },
  {
   "cell_type": "code",
   "execution_count": 5,
   "id": "83ed7fa5",
   "metadata": {},
   "outputs": [
    {
     "data": {
      "text/plain": [
       "-1"
      ]
     },
     "execution_count": 5,
     "metadata": {},
     "output_type": "execute_result"
    }
   ],
   "source": [
    "X[2][1]"
   ]
  },
  {
   "cell_type": "code",
   "execution_count": 6,
   "id": "0bcf0d3f",
   "metadata": {},
   "outputs": [
    {
     "name": "stdout",
     "output_type": "stream",
     "text": [
      "\n",
      "Iteration  1\n",
      "Prediction is  -1\n",
      "Weights before update are  0 0\n",
      "Updated weights are  1 1\n",
      "\n",
      "Iteration  2\n",
      "Prediction is  -1\n",
      "Weights before update are  1 1\n",
      "Updated weights are  2 0\n",
      "\n",
      "Iteration  3\n",
      "Prediction is  1\n",
      "Weights before update are  2 0\n",
      "Updated weights are  1 1\n",
      "\n",
      "Iteration  4\n",
      "Prediction is  1\n",
      "Weights before update are  1 1\n",
      "Updated weights are  2 2\n"
     ]
    }
   ],
   "source": [
    "for i in range(0,4):\n",
    "    print(\"\\nIteration \",i+1)\n",
    "    \n",
    "    pred_y = (X[i][0]*w1) + (X[i][1]*w2)\n",
    "    if pred_y == 0:\n",
    "        pred_y = -1\n",
    "    else:\n",
    "        pred_y = 1\n",
    "    \n",
    "    print(\"Prediction is \",pred_y)\n",
    "    \n",
    "    print(\"Weights before update are \",w1,w2)\n",
    "    \n",
    "    w1 = weight_updation(w1, X[i][0], y[i])\n",
    "    w2 = weight_updation(w2, X[i][1], y[i])\n",
    "    \n",
    "    print(\"Updated weights are \",w1,w2)"
   ]
  }
 ],
 "metadata": {
  "kernelspec": {
   "display_name": "Python 3 (ipykernel)",
   "language": "python",
   "name": "python3"
  },
  "language_info": {
   "codemirror_mode": {
    "name": "ipython",
    "version": 3
   },
   "file_extension": ".py",
   "mimetype": "text/x-python",
   "name": "python",
   "nbconvert_exporter": "python",
   "pygments_lexer": "ipython3",
   "version": "3.9.12"
  }
 },
 "nbformat": 4,
 "nbformat_minor": 5
}
