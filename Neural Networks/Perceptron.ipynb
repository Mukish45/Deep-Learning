{
 "cells": [
  {
   "cell_type": "code",
   "execution_count": 1,
   "id": "59f1cdc4",
   "metadata": {},
   "outputs": [],
   "source": [
    "X = [[0,0],\n",
    "    [0,1],\n",
    "    [1,0],\n",
    "    [1,1]]\n",
    "\n",
    "y = [0,1,1,1]\n",
    "\n",
    "w1 = 1\n",
    "w2 = 1"
   ]
  },
  {
   "cell_type": "code",
   "execution_count": 2,
   "id": "73c4da2e",
   "metadata": {},
   "outputs": [],
   "source": [
    "def weight_updation(old_weight,x,y, y_pred):\n",
    "    lr = 0.1\n",
    "    det_weight = lr*(y-y_pred)*x\n",
    "    new_weight = old_weight + det_weight\n",
    "    return new_weight"
   ]
  },
  {
   "cell_type": "code",
   "execution_count": 3,
   "id": "0e43b5ef",
   "metadata": {},
   "outputs": [
    {
     "name": "stdout",
     "output_type": "stream",
     "text": [
      "\n",
      "Iteration  1\n",
      "Prediction is  0\n",
      "Weights before update are  1 1\n",
      "Updated weights are  1 1\n",
      "\n",
      "Iteration  2\n",
      "Prediction is  1\n",
      "Weights before update are  1 1\n",
      "Updated weights are  1 1\n",
      "\n",
      "Iteration  3\n",
      "Prediction is  1\n",
      "Weights before update are  1 1\n",
      "Updated weights are  1 1\n",
      "\n",
      "Iteration  4\n",
      "Prediction is  1\n",
      "Weights before update are  1 1\n",
      "Updated weights are  1 1\n"
     ]
    }
   ],
   "source": [
    "for i in range(0,4):\n",
    "    print(\"\\nIteration \",i+1)\n",
    "    \n",
    "    pred_y = (X[i][0]*w1) + (X[i][1]*w2)\n",
    "    if pred_y == 0:\n",
    "        pred_y = 0\n",
    "    else:\n",
    "        pred_y = 1\n",
    "    print(\"Prediction is \",pred_y)\n",
    "    \n",
    "    print(\"Weights before update are \",w1,w2)\n",
    "    \n",
    "    if pred_y != y[i]:\n",
    "        w1 = weight_updation(w1, X[i][0], y[i], pred_y)\n",
    "        w2 = weight_updation(w2, X[i][1], y[i], pred_y)\n",
    "    \n",
    "    print(\"Updated weights are \",w1,w2)"
   ]
  },
  {
   "cell_type": "code",
   "execution_count": null,
   "id": "27a1480a",
   "metadata": {},
   "outputs": [],
   "source": []
  }
 ],
 "metadata": {
  "kernelspec": {
   "display_name": "Python 3 (ipykernel)",
   "language": "python",
   "name": "python3"
  },
  "language_info": {
   "codemirror_mode": {
    "name": "ipython",
    "version": 3
   },
   "file_extension": ".py",
   "mimetype": "text/x-python",
   "name": "python",
   "nbconvert_exporter": "python",
   "pygments_lexer": "ipython3",
   "version": "3.9.12"
  }
 },
 "nbformat": 4,
 "nbformat_minor": 5
}
