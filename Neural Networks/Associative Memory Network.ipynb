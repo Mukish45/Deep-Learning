{
 "cells": [
  {
   "cell_type": "markdown",
   "id": "de4a3f7e",
   "metadata": {},
   "source": [
    "# Training"
   ]
  },
  {
   "cell_type": "code",
   "execution_count": 1,
   "id": "5c81b4e6",
   "metadata": {},
   "outputs": [],
   "source": [
    "import numpy as np"
   ]
  },
  {
   "cell_type": "code",
   "execution_count": 2,
   "id": "fe38f86d",
   "metadata": {},
   "outputs": [],
   "source": [
    "p1 = np.array([[1, 0, 0, 0]])\n",
    "p2 = np.array([[1, 1, 0, 0]])\n",
    "p3 = np.array([[0, 0, 0, 1]])\n",
    "p4 = np.array([[0, 0, 1, 1]])\n",
    "\n",
    "t1 = np.array([[1, 0]])\n",
    "t2 = np.array([[1, 0]])\n",
    "t3 = np.array([[0, 1]])\n",
    "t4 = np.array([[0, 1]])"
   ]
  },
  {
   "cell_type": "code",
   "execution_count": 3,
   "id": "5494f772",
   "metadata": {},
   "outputs": [],
   "source": [
    "t_p1 = np.transpose(p1)\n",
    "t_p2 = np.transpose(p2)\n",
    "t_p3 = np.transpose(p3)\n",
    "t_p4 = np.transpose(p4)"
   ]
  },
  {
   "cell_type": "code",
   "execution_count": 4,
   "id": "96094c59",
   "metadata": {},
   "outputs": [],
   "source": [
    "w1 = np.matmul(t_p1, t1)\n",
    "w2 = np.matmul(t_p2, t2)\n",
    "w3 = np.matmul(t_p3, t3)\n",
    "w4 = np.matmul(t_p4, t4)"
   ]
  },
  {
   "cell_type": "code",
   "execution_count": 5,
   "id": "878f5344",
   "metadata": {},
   "outputs": [
    {
     "data": {
      "text/plain": [
       "array([[2, 0],\n",
       "       [1, 0],\n",
       "       [0, 1],\n",
       "       [0, 2]])"
      ]
     },
     "execution_count": 5,
     "metadata": {},
     "output_type": "execute_result"
    }
   ],
   "source": [
    "tot_w = w1+w2+w3+w4\n",
    "tot_w"
   ]
  },
  {
   "cell_type": "markdown",
   "id": "bed9f565",
   "metadata": {},
   "source": [
    "# Testing"
   ]
  },
  {
   "cell_type": "code",
   "execution_count": 6,
   "id": "dd9e09c3",
   "metadata": {},
   "outputs": [],
   "source": [
    "test1 = np.array([[1, 0, 0, 0]])"
   ]
  },
  {
   "cell_type": "code",
   "execution_count": 7,
   "id": "11cca118",
   "metadata": {},
   "outputs": [],
   "source": [
    "def activation_fun(net_op):\n",
    "    for i in range(len(net_op)):\n",
    "        for j in range(len(net_op[i])):\n",
    "            if net_op[i][j] > 0:\n",
    "                net_op[i][j] = 1\n",
    "            else:\n",
    "                net_op[i][j] = 0\n",
    "    return net_op"
   ]
  },
  {
   "cell_type": "code",
   "execution_count": 8,
   "id": "e4063d6b",
   "metadata": {},
   "outputs": [
    {
     "data": {
      "text/plain": [
       "array([[2, 0]])"
      ]
     },
     "execution_count": 8,
     "metadata": {},
     "output_type": "execute_result"
    }
   ],
   "source": [
    "net_op = np.matmul(test1,tot_w)\n",
    "net_op"
   ]
  },
  {
   "cell_type": "code",
   "execution_count": 9,
   "id": "06e32bb2",
   "metadata": {},
   "outputs": [],
   "source": [
    "out_op = activation_fun(net_op)"
   ]
  },
  {
   "cell_type": "code",
   "execution_count": 10,
   "id": "f0a77a22",
   "metadata": {},
   "outputs": [
    {
     "data": {
      "text/plain": [
       "array([[1, 0]])"
      ]
     },
     "execution_count": 10,
     "metadata": {},
     "output_type": "execute_result"
    }
   ],
   "source": [
    "out_op"
   ]
  },
  {
   "cell_type": "code",
   "execution_count": 11,
   "id": "cef363e6",
   "metadata": {},
   "outputs": [
    {
     "data": {
      "text/plain": [
       "array([[1, 1]])"
      ]
     },
     "execution_count": 11,
     "metadata": {},
     "output_type": "execute_result"
    }
   ],
   "source": [
    "test2 = np.array([[0, 1, 1, 0]])\n",
    "net_op2 = np.matmul(test2, tot_w)\n",
    "op2 = activation_fun(net_op2)\n",
    "op2"
   ]
  }
 ],
 "metadata": {
  "kernelspec": {
   "display_name": "Python 3 (ipykernel)",
   "language": "python",
   "name": "python3"
  },
  "language_info": {
   "codemirror_mode": {
    "name": "ipython",
    "version": 3
   },
   "file_extension": ".py",
   "mimetype": "text/x-python",
   "name": "python",
   "nbconvert_exporter": "python",
   "pygments_lexer": "ipython3",
   "version": "3.9.12"
  }
 },
 "nbformat": 4,
 "nbformat_minor": 5
}
