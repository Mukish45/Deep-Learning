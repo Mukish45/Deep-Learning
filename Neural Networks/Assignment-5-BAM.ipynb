{
 "cells": [
  {
   "cell_type": "markdown",
   "id": "1932b998",
   "metadata": {},
   "source": [
    "# Bipolar BAM to recognize letters"
   ]
  },
  {
   "cell_type": "code",
   "execution_count": 1,
   "id": "9c8a7935",
   "metadata": {},
   "outputs": [],
   "source": [
    "import numpy as np"
   ]
  },
  {
   "cell_type": "markdown",
   "id": "e245af6a",
   "metadata": {},
   "source": [
    "Store three letters A, B, C using 5x3 matrix using bipolar codes"
   ]
  },
  {
   "cell_type": "code",
   "execution_count": 7,
   "id": "220a6a70",
   "metadata": {},
   "outputs": [],
   "source": [
    "A = [[-1,1,1],\n",
    "    [1,-1,-1],\n",
    "    [1,1,1],\n",
    "    [1,-1,1],\n",
    "    [1,-1,1]]\n",
    "A = np.array(A)"
   ]
  },
  {
   "cell_type": "code",
   "execution_count": 9,
   "id": "45384b4b",
   "metadata": {},
   "outputs": [],
   "source": [
    "B = [[1,1,1],\n",
    "    [1,-1,1],\n",
    "    [1,1,1],\n",
    "    [1,-1,1],\n",
    "    [1,1,1]]\n",
    "B = np.array(B)"
   ]
  },
  {
   "cell_type": "code",
   "execution_count": 10,
   "id": "46fed36a",
   "metadata": {},
   "outputs": [],
   "source": [
    "C = [[1,1,1],\n",
    "    [1,-1,-1],\n",
    "    [1,-1,-1],\n",
    "    [1,-1,-1],\n",
    "    [1,1,1]]\n",
    "C = np.array(C)"
   ]
  },
  {
   "cell_type": "code",
   "execution_count": 39,
   "id": "dd8b5514",
   "metadata": {},
   "outputs": [],
   "source": [
    "t1 = np.array([[1,-1,-1]])\n",
    "t2 = np.array([[-1,1,-1]])\n",
    "t3 = np.array([[-1,-1,1]])"
   ]
  },
  {
   "cell_type": "code",
   "execution_count": 11,
   "id": "d2e15f34",
   "metadata": {},
   "outputs": [],
   "source": [
    "flat_a = A.flatten()\n",
    "flat_b = B.flatten()\n",
    "flat_c = C.flatten()"
   ]
  },
  {
   "cell_type": "code",
   "execution_count": 28,
   "id": "985b04bf",
   "metadata": {},
   "outputs": [],
   "source": [
    "flat_a = np.array([flat_a])"
   ]
  },
  {
   "cell_type": "code",
   "execution_count": 29,
   "id": "ff5398ab",
   "metadata": {},
   "outputs": [
    {
     "data": {
      "text/plain": [
       "(1, 15)"
      ]
     },
     "execution_count": 29,
     "metadata": {},
     "output_type": "execute_result"
    }
   ],
   "source": [
    "flat_a.shape"
   ]
  },
  {
   "cell_type": "code",
   "execution_count": 30,
   "id": "a58a7c3f",
   "metadata": {},
   "outputs": [
    {
     "data": {
      "text/plain": [
       "array([[-1,  1,  1,  1, -1, -1,  1,  1,  1,  1, -1,  1,  1, -1,  1]])"
      ]
     },
     "execution_count": 30,
     "metadata": {},
     "output_type": "execute_result"
    }
   ],
   "source": [
    "flat_a"
   ]
  },
  {
   "cell_type": "code",
   "execution_count": 31,
   "id": "d1035818",
   "metadata": {},
   "outputs": [],
   "source": [
    "flat_b = np.array([flat_b])"
   ]
  },
  {
   "cell_type": "code",
   "execution_count": 32,
   "id": "a095367f",
   "metadata": {},
   "outputs": [],
   "source": [
    "flat_c = np.array([flat_c])"
   ]
  },
  {
   "cell_type": "code",
   "execution_count": 33,
   "id": "5f4db075",
   "metadata": {},
   "outputs": [],
   "source": [
    "trans_a = np.transpose(flat_a)"
   ]
  },
  {
   "cell_type": "code",
   "execution_count": 43,
   "id": "c65d30bb",
   "metadata": {},
   "outputs": [],
   "source": [
    "trans_b = np.transpose(flat_b)\n",
    "trans_c = np.transpose(flat_c)"
   ]
  },
  {
   "cell_type": "code",
   "execution_count": 35,
   "id": "68da7f4b",
   "metadata": {},
   "outputs": [
    {
     "data": {
      "text/plain": [
       "(15, 1)"
      ]
     },
     "execution_count": 35,
     "metadata": {},
     "output_type": "execute_result"
    }
   ],
   "source": [
    "trans_a.shape"
   ]
  },
  {
   "cell_type": "code",
   "execution_count": 40,
   "id": "43501efa",
   "metadata": {},
   "outputs": [
    {
     "data": {
      "text/plain": [
       "(1, 3)"
      ]
     },
     "execution_count": 40,
     "metadata": {},
     "output_type": "execute_result"
    }
   ],
   "source": [
    "t1.shape"
   ]
  },
  {
   "cell_type": "code",
   "execution_count": 41,
   "id": "aecd4be3",
   "metadata": {},
   "outputs": [],
   "source": [
    "w1 = np.matmul(trans_a,t1)"
   ]
  },
  {
   "cell_type": "code",
   "execution_count": 44,
   "id": "78cc4aaf",
   "metadata": {},
   "outputs": [],
   "source": [
    "w2 = np.matmul(trans_b,t2)\n",
    "w3 = np.matmul(trans_c,t3)"
   ]
  },
  {
   "cell_type": "code",
   "execution_count": 45,
   "id": "d64cbb00",
   "metadata": {},
   "outputs": [
    {
     "data": {
      "text/plain": [
       "array([[-1,  1,  1],\n",
       "       [ 1, -1, -1],\n",
       "       [ 1, -1, -1],\n",
       "       [ 1, -1, -1],\n",
       "       [-1,  1,  1],\n",
       "       [-1,  1,  1],\n",
       "       [ 1, -1, -1],\n",
       "       [ 1, -1, -1],\n",
       "       [ 1, -1, -1],\n",
       "       [ 1, -1, -1],\n",
       "       [-1,  1,  1],\n",
       "       [ 1, -1, -1],\n",
       "       [ 1, -1, -1],\n",
       "       [-1,  1,  1],\n",
       "       [ 1, -1, -1]])"
      ]
     },
     "execution_count": 45,
     "metadata": {},
     "output_type": "execute_result"
    }
   ],
   "source": [
    "w1"
   ]
  },
  {
   "cell_type": "code",
   "execution_count": 46,
   "id": "f4fc06a4",
   "metadata": {},
   "outputs": [
    {
     "data": {
      "text/plain": [
       "array([[-1,  1, -1],\n",
       "       [-1,  1, -1],\n",
       "       [-1,  1, -1],\n",
       "       [-1,  1, -1],\n",
       "       [ 1, -1,  1],\n",
       "       [-1,  1, -1],\n",
       "       [-1,  1, -1],\n",
       "       [-1,  1, -1],\n",
       "       [-1,  1, -1],\n",
       "       [-1,  1, -1],\n",
       "       [ 1, -1,  1],\n",
       "       [-1,  1, -1],\n",
       "       [-1,  1, -1],\n",
       "       [-1,  1, -1],\n",
       "       [-1,  1, -1]])"
      ]
     },
     "execution_count": 46,
     "metadata": {},
     "output_type": "execute_result"
    }
   ],
   "source": [
    "w2"
   ]
  },
  {
   "cell_type": "code",
   "execution_count": 47,
   "id": "e52b8465",
   "metadata": {},
   "outputs": [
    {
     "data": {
      "text/plain": [
       "array([[-1, -1,  1],\n",
       "       [-1, -1,  1],\n",
       "       [-1, -1,  1],\n",
       "       [-1, -1,  1],\n",
       "       [ 1,  1, -1],\n",
       "       [ 1,  1, -1],\n",
       "       [-1, -1,  1],\n",
       "       [ 1,  1, -1],\n",
       "       [ 1,  1, -1],\n",
       "       [-1, -1,  1],\n",
       "       [ 1,  1, -1],\n",
       "       [ 1,  1, -1],\n",
       "       [-1, -1,  1],\n",
       "       [-1, -1,  1],\n",
       "       [-1, -1,  1]])"
      ]
     },
     "execution_count": 47,
     "metadata": {},
     "output_type": "execute_result"
    }
   ],
   "source": [
    "w3"
   ]
  },
  {
   "cell_type": "code",
   "execution_count": 48,
   "id": "77a01e36",
   "metadata": {},
   "outputs": [],
   "source": [
    "tot_w = w1+w2+w3"
   ]
  },
  {
   "cell_type": "code",
   "execution_count": 49,
   "id": "13acc1f3",
   "metadata": {},
   "outputs": [
    {
     "data": {
      "text/plain": [
       "array([[-3,  1,  1],\n",
       "       [-1, -1, -1],\n",
       "       [-1, -1, -1],\n",
       "       [-1, -1, -1],\n",
       "       [ 1,  1,  1],\n",
       "       [-1,  3, -1],\n",
       "       [-1, -1, -1],\n",
       "       [ 1,  1, -3],\n",
       "       [ 1,  1, -3],\n",
       "       [-1, -1, -1],\n",
       "       [ 1,  1,  1],\n",
       "       [ 1,  1, -3],\n",
       "       [-1, -1, -1],\n",
       "       [-3,  1,  1],\n",
       "       [-1, -1, -1]])"
      ]
     },
     "execution_count": 49,
     "metadata": {},
     "output_type": "execute_result"
    }
   ],
   "source": [
    "tot_w"
   ]
  },
  {
   "cell_type": "markdown",
   "id": "b63c95c0",
   "metadata": {},
   "source": [
    "# Forward Testing"
   ]
  },
  {
   "cell_type": "code",
   "execution_count": 50,
   "id": "b5d9aafa",
   "metadata": {},
   "outputs": [],
   "source": [
    "y_1 = np.matmul(flat_a, tot_w)"
   ]
  },
  {
   "cell_type": "code",
   "execution_count": 51,
   "id": "fef18c3f",
   "metadata": {},
   "outputs": [],
   "source": [
    "y_2 = np.matmul(flat_b, tot_w)\n",
    "y_3 = np.matmul(flat_c, tot_w)"
   ]
  },
  {
   "cell_type": "code",
   "execution_count": 68,
   "id": "63653eea",
   "metadata": {},
   "outputs": [],
   "source": [
    "def activation_fn(y_in):\n",
    "    for i in range(0, 3):\n",
    "        if y_in[0][i] >= 0:\n",
    "            y_in[0][i] = 1\n",
    "        elif y_in[0][i] < 0:\n",
    "            y_in[0][i] = -1\n",
    "    return y_in"
   ]
  },
  {
   "cell_type": "code",
   "execution_count": 69,
   "id": "a56b7776",
   "metadata": {},
   "outputs": [],
   "source": [
    "y_out_1 = activation_fn(y_1)\n",
    "y_out_2 = activation_fn(y_2)\n",
    "y_out_3 = activation_fn(y_3)"
   ]
  },
  {
   "cell_type": "code",
   "execution_count": 70,
   "id": "78bc48c5",
   "metadata": {},
   "outputs": [
    {
     "data": {
      "text/plain": [
       "array([[ 1, -1, -1]])"
      ]
     },
     "execution_count": 70,
     "metadata": {},
     "output_type": "execute_result"
    }
   ],
   "source": [
    "y_out_1"
   ]
  },
  {
   "cell_type": "code",
   "execution_count": 71,
   "id": "2ac5bfbd",
   "metadata": {},
   "outputs": [
    {
     "data": {
      "text/plain": [
       "array([[-1, -1, -1]])"
      ]
     },
     "execution_count": 71,
     "metadata": {},
     "output_type": "execute_result"
    }
   ],
   "source": [
    "y_out_2"
   ]
  },
  {
   "cell_type": "code",
   "execution_count": 72,
   "id": "0192acde",
   "metadata": {},
   "outputs": [
    {
     "data": {
      "text/plain": [
       "array([[-1, -1,  1]])"
      ]
     },
     "execution_count": 72,
     "metadata": {},
     "output_type": "execute_result"
    }
   ],
   "source": [
    "y_out_3"
   ]
  },
  {
   "cell_type": "markdown",
   "id": "77a1f707",
   "metadata": {},
   "source": [
    "# Backward direction"
   ]
  },
  {
   "cell_type": "code",
   "execution_count": 74,
   "id": "15769ea6",
   "metadata": {},
   "outputs": [],
   "source": [
    "x_1 = np.matmul(t1, np.transpose(tot_w))\n",
    "x_2 = np.matmul(t2, np.transpose(tot_w))\n",
    "x_3 = np.matmul(t3, np.transpose(tot_w))"
   ]
  },
  {
   "cell_type": "code",
   "execution_count": 77,
   "id": "0a49cb83",
   "metadata": {},
   "outputs": [],
   "source": [
    "def act_fn(x_in):\n",
    "    for i in range(0, 15):\n",
    "        if x_in[0][i] >= 0:\n",
    "            x_in[0][i] = 1\n",
    "        elif x_in[0][i] < 0:\n",
    "            x_in[0][i] = -1\n",
    "    return x_in"
   ]
  },
  {
   "cell_type": "code",
   "execution_count": 78,
   "id": "0678fe4a",
   "metadata": {},
   "outputs": [],
   "source": [
    "x_o_1 = act_fn(x_1)\n",
    "x_o_2 = act_fn(x_2)\n",
    "x_o_3 = act_fn(x_3)"
   ]
  },
  {
   "cell_type": "code",
   "execution_count": 79,
   "id": "c6e67ec4",
   "metadata": {},
   "outputs": [
    {
     "data": {
      "text/plain": [
       "array([[-1,  1,  1,  1, -1, -1,  1,  1,  1,  1, -1,  1,  1, -1,  1]])"
      ]
     },
     "execution_count": 79,
     "metadata": {},
     "output_type": "execute_result"
    }
   ],
   "source": [
    "x_o_1"
   ]
  },
  {
   "cell_type": "code",
   "execution_count": 80,
   "id": "6860fa66",
   "metadata": {},
   "outputs": [
    {
     "data": {
      "text/plain": [
       "array([[ 1,  1,  1,  1, -1,  1,  1,  1,  1,  1, -1,  1,  1,  1,  1]])"
      ]
     },
     "execution_count": 80,
     "metadata": {},
     "output_type": "execute_result"
    }
   ],
   "source": [
    "x_o_2"
   ]
  },
  {
   "cell_type": "code",
   "execution_count": 82,
   "id": "f6bc9530",
   "metadata": {},
   "outputs": [
    {
     "data": {
      "text/plain": [
       "array([[ 1,  1,  1,  1, -1, -1,  1, -1, -1,  1, -1, -1,  1,  1,  1]])"
      ]
     },
     "execution_count": 82,
     "metadata": {},
     "output_type": "execute_result"
    }
   ],
   "source": [
    "x_o_3"
   ]
  },
  {
   "cell_type": "markdown",
   "id": "980459a5",
   "metadata": {},
   "source": [
    "# Testing with noise input"
   ]
  },
  {
   "cell_type": "markdown",
   "id": "3ce3bd35",
   "metadata": {},
   "source": [
    "Orginal A"
   ]
  },
  {
   "cell_type": "code",
   "execution_count": 108,
   "id": "30fb4db6",
   "metadata": {},
   "outputs": [
    {
     "data": {
      "text/plain": [
       "array([[-1,  1,  1,  1, -1, -1,  1,  1,  1,  1, -1,  1,  1, -1,  1]])"
      ]
     },
     "execution_count": 108,
     "metadata": {},
     "output_type": "execute_result"
    }
   ],
   "source": [
    "flat_a"
   ]
  },
  {
   "cell_type": "code",
   "execution_count": 104,
   "id": "ab3a955a",
   "metadata": {},
   "outputs": [],
   "source": [
    "test_1_a = np.array([[-1,  1,  1,  1, -1, -1,  1,  1,  1,  1, -1,  1,  -1, -1,  1]])"
   ]
  },
  {
   "cell_type": "code",
   "execution_count": 105,
   "id": "0f79d175",
   "metadata": {},
   "outputs": [],
   "source": [
    "ty_1 = np.matmul(test_1_a, tot_w)"
   ]
  },
  {
   "cell_type": "code",
   "execution_count": 106,
   "id": "5f16c032",
   "metadata": {},
   "outputs": [],
   "source": [
    "t_out_1 = activation_fn(ty_1)"
   ]
  },
  {
   "cell_type": "code",
   "execution_count": 107,
   "id": "b6f5a103",
   "metadata": {},
   "outputs": [
    {
     "data": {
      "text/plain": [
       "array([[ 1, -1, -1]])"
      ]
     },
     "execution_count": 107,
     "metadata": {},
     "output_type": "execute_result"
    }
   ],
   "source": [
    "t_out_1"
   ]
  }
 ],
 "metadata": {
  "kernelspec": {
   "display_name": "Python 3 (ipykernel)",
   "language": "python",
   "name": "python3"
  },
  "language_info": {
   "codemirror_mode": {
    "name": "ipython",
    "version": 3
   },
   "file_extension": ".py",
   "mimetype": "text/x-python",
   "name": "python",
   "nbconvert_exporter": "python",
   "pygments_lexer": "ipython3",
   "version": "3.9.13"
  }
 },
 "nbformat": 4,
 "nbformat_minor": 5
}
