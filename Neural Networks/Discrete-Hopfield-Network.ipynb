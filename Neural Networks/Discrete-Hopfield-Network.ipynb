{
 "cells": [
  {
   "cell_type": "code",
   "execution_count": 1,
   "id": "4eace756",
   "metadata": {},
   "outputs": [],
   "source": [
    "import numpy as np"
   ]
  },
  {
   "cell_type": "code",
   "execution_count": 2,
   "id": "2ccb01be",
   "metadata": {},
   "outputs": [],
   "source": [
    "W = np.array([[0, 1, 1, -1],\n",
    "             [1, 0, 1, -1],\n",
    "             [1, 1, 0, -1],\n",
    "             [-1, -1, -1, 0]])"
   ]
  },
  {
   "cell_type": "code",
   "execution_count": 3,
   "id": "3ea22206",
   "metadata": {},
   "outputs": [
    {
     "data": {
      "text/plain": [
       "array([[ 0,  1,  1, -1],\n",
       "       [ 1,  0,  1, -1],\n",
       "       [ 1,  1,  0, -1],\n",
       "       [-1, -1, -1,  0]])"
      ]
     },
     "execution_count": 3,
     "metadata": {},
     "output_type": "execute_result"
    }
   ],
   "source": [
    "W"
   ]
  },
  {
   "cell_type": "code",
   "execution_count": 4,
   "id": "da1d8c23",
   "metadata": {},
   "outputs": [],
   "source": [
    "test_1 = np.array([0, 0, 1, 0])"
   ]
  },
  {
   "cell_type": "code",
   "execution_count": 5,
   "id": "e84e4413",
   "metadata": {},
   "outputs": [
    {
     "data": {
      "text/plain": [
       "array([0, 0, 1, 0])"
      ]
     },
     "execution_count": 5,
     "metadata": {},
     "output_type": "execute_result"
    }
   ],
   "source": [
    "test_1"
   ]
  },
  {
   "cell_type": "code",
   "execution_count": 6,
   "id": "3a6f68f5",
   "metadata": {},
   "outputs": [],
   "source": [
    "update_order = [1, 4, 3, 2]"
   ]
  },
  {
   "cell_type": "code",
   "execution_count": 7,
   "id": "9825b9ac",
   "metadata": {},
   "outputs": [],
   "source": [
    "def hopfield_update(test_in, W, update_order):\n",
    "    x = test_in\n",
    "    y_in = test_in\n",
    "    \n",
    "    for i in update_order:\n",
    "        y_net = np.matmul(y_in, W[:,i-1]) + x[i-1]\n",
    "        \n",
    "        if y_net >= 0:\n",
    "            y_net = 1\n",
    "        else:\n",
    "            y_net = 0\n",
    "            \n",
    "        \n",
    "        y_in[i-1] = y_net\n",
    "        \n",
    "        print(\"Updataion at \",i,\"is \",y_in)"
   ]
  },
  {
   "cell_type": "code",
   "execution_count": 8,
   "id": "ab942514",
   "metadata": {},
   "outputs": [
    {
     "name": "stdout",
     "output_type": "stream",
     "text": [
      "[ 0  1  1 -1]\n",
      "[-1 -1 -1  0]\n",
      "[ 1  1  0 -1]\n",
      "[ 1  0  1 -1]\n"
     ]
    }
   ],
   "source": [
    "for i in update_order:\n",
    "    print(W[:,i-1])"
   ]
  },
  {
   "cell_type": "code",
   "execution_count": 9,
   "id": "55e28c5c",
   "metadata": {},
   "outputs": [
    {
     "name": "stdout",
     "output_type": "stream",
     "text": [
      "Updataion at  1 is  [1 0 1 0]\n",
      "Updataion at  4 is  [1 0 1 0]\n",
      "Updataion at  3 is  [1 0 1 0]\n",
      "Updataion at  2 is  [1 1 1 0]\n"
     ]
    }
   ],
   "source": [
    "hopfield_update(test_1, W, update_order)"
   ]
  }
 ],
 "metadata": {
  "kernelspec": {
   "display_name": "Python 3 (ipykernel)",
   "language": "python",
   "name": "python3"
  },
  "language_info": {
   "codemirror_mode": {
    "name": "ipython",
    "version": 3
   },
   "file_extension": ".py",
   "mimetype": "text/x-python",
   "name": "python",
   "nbconvert_exporter": "python",
   "pygments_lexer": "ipython3",
   "version": "3.9.12"
  }
 },
 "nbformat": 4,
 "nbformat_minor": 5
}
