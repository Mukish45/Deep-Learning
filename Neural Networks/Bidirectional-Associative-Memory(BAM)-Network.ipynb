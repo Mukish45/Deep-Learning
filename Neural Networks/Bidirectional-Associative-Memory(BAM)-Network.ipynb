{
 "cells": [
  {
   "cell_type": "code",
   "execution_count": 1,
   "id": "4eeaa304",
   "metadata": {},
   "outputs": [],
   "source": [
    "import numpy as np"
   ]
  },
  {
   "cell_type": "markdown",
   "id": "4878ab69",
   "metadata": {},
   "source": [
    "# Training"
   ]
  },
  {
   "cell_type": "code",
   "execution_count": 2,
   "id": "51f16deb",
   "metadata": {},
   "outputs": [],
   "source": [
    "ip1 = np.array([[1, 1, 1],\n",
    "      [1, -1, -1],\n",
    "      [1, 1, 1],\n",
    "      [1, -1, -1],\n",
    "      [1, 1, 1]])\n",
    "\n",
    "t1 = np.array([[-1, 1]])"
   ]
  },
  {
   "cell_type": "code",
   "execution_count": 3,
   "id": "6f12f7db",
   "metadata": {},
   "outputs": [],
   "source": [
    "ip1 = ip1.flatten()"
   ]
  },
  {
   "cell_type": "code",
   "execution_count": 6,
   "id": "99af941d",
   "metadata": {},
   "outputs": [
    {
     "data": {
      "text/plain": [
       "array([[ 1,  1,  1,  1, -1, -1,  1,  1,  1,  1, -1, -1,  1,  1,  1]])"
      ]
     },
     "execution_count": 6,
     "metadata": {},
     "output_type": "execute_result"
    }
   ],
   "source": [
    "ip1 = np.array([ip1])\n",
    "ip1"
   ]
  },
  {
   "cell_type": "code",
   "execution_count": 7,
   "id": "03658c85",
   "metadata": {},
   "outputs": [
    {
     "data": {
      "text/plain": [
       "(1, 15)"
      ]
     },
     "execution_count": 7,
     "metadata": {},
     "output_type": "execute_result"
    }
   ],
   "source": [
    "ip1.shape"
   ]
  },
  {
   "cell_type": "code",
   "execution_count": 8,
   "id": "65c98dda",
   "metadata": {},
   "outputs": [
    {
     "data": {
      "text/plain": [
       "array([[-1,  1],\n",
       "       [-1,  1],\n",
       "       [-1,  1],\n",
       "       [-1,  1],\n",
       "       [ 1, -1],\n",
       "       [ 1, -1],\n",
       "       [-1,  1],\n",
       "       [-1,  1],\n",
       "       [-1,  1],\n",
       "       [-1,  1],\n",
       "       [ 1, -1],\n",
       "       [ 1, -1],\n",
       "       [-1,  1],\n",
       "       [-1,  1],\n",
       "       [-1,  1]])"
      ]
     },
     "execution_count": 8,
     "metadata": {},
     "output_type": "execute_result"
    }
   ],
   "source": [
    "w1 = np.multiply((np.transpose(ip1)),t1)\n",
    "w1"
   ]
  },
  {
   "cell_type": "code",
   "execution_count": 12,
   "id": "20984e2a",
   "metadata": {},
   "outputs": [],
   "source": [
    "ip2 = np.array([[1, 1, 1],\n",
    "               [1, -1, -1],\n",
    "               [1, 1, 1],\n",
    "               [1, -1, -1],\n",
    "               [1, -1, -1]])\n",
    "\n",
    "ip2 = ip2.flatten()\n",
    "ip2 = np.array([ip2])"
   ]
  },
  {
   "cell_type": "code",
   "execution_count": 13,
   "id": "f46ca7e6",
   "metadata": {},
   "outputs": [
    {
     "data": {
      "text/plain": [
       "array([[ 1,  1],\n",
       "       [ 1,  1],\n",
       "       [ 1,  1],\n",
       "       [ 1,  1],\n",
       "       [-1, -1],\n",
       "       [-1, -1],\n",
       "       [ 1,  1],\n",
       "       [ 1,  1],\n",
       "       [ 1,  1],\n",
       "       [ 1,  1],\n",
       "       [-1, -1],\n",
       "       [-1, -1],\n",
       "       [ 1,  1],\n",
       "       [-1, -1],\n",
       "       [-1, -1]])"
      ]
     },
     "execution_count": 13,
     "metadata": {},
     "output_type": "execute_result"
    }
   ],
   "source": [
    "t2 = np.array([[1, 1]])\n",
    "w2 = np.multiply((np.transpose(ip2)),t2)\n",
    "w2"
   ]
  },
  {
   "cell_type": "code",
   "execution_count": 14,
   "id": "a0a6a5fe",
   "metadata": {},
   "outputs": [
    {
     "data": {
      "text/plain": [
       "array([[ 0,  2],\n",
       "       [ 0,  2],\n",
       "       [ 0,  2],\n",
       "       [ 0,  2],\n",
       "       [ 0, -2],\n",
       "       [ 0, -2],\n",
       "       [ 0,  2],\n",
       "       [ 0,  2],\n",
       "       [ 0,  2],\n",
       "       [ 0,  2],\n",
       "       [ 0, -2],\n",
       "       [ 0, -2],\n",
       "       [ 0,  2],\n",
       "       [-2,  0],\n",
       "       [-2,  0]])"
      ]
     },
     "execution_count": 14,
     "metadata": {},
     "output_type": "execute_result"
    }
   ],
   "source": [
    "tot_W = w1 + w2\n",
    "tot_W"
   ]
  },
  {
   "cell_type": "markdown",
   "id": "7e410504",
   "metadata": {},
   "source": [
    "# Testing"
   ]
  },
  {
   "cell_type": "code",
   "execution_count": 15,
   "id": "69045320",
   "metadata": {},
   "outputs": [],
   "source": [
    "test1 = np.array([[1, 1, 1],\n",
    "                 [1, -1, -1],\n",
    "                 [1, 1, 1],\n",
    "                 [1, -1, -1],\n",
    "                 [1, 1, 1]])\n",
    "test1 = test1.flatten()\n",
    "test1 = np.array([test1])"
   ]
  },
  {
   "cell_type": "code",
   "execution_count": 16,
   "id": "4da2e205",
   "metadata": {},
   "outputs": [
    {
     "data": {
      "text/plain": [
       "array([[ 1,  1,  1,  1, -1, -1,  1,  1,  1,  1, -1, -1,  1,  1,  1]])"
      ]
     },
     "execution_count": 16,
     "metadata": {},
     "output_type": "execute_result"
    }
   ],
   "source": [
    "test1"
   ]
  },
  {
   "cell_type": "code",
   "execution_count": 20,
   "id": "0bbee78f",
   "metadata": {},
   "outputs": [
    {
     "data": {
      "text/plain": [
       "dtype('int64')"
      ]
     },
     "execution_count": 20,
     "metadata": {},
     "output_type": "execute_result"
    }
   ],
   "source": [
    "test1.dtype"
   ]
  },
  {
   "cell_type": "code",
   "execution_count": 21,
   "id": "9f589d0d",
   "metadata": {},
   "outputs": [
    {
     "data": {
      "text/plain": [
       "dtype('int64')"
      ]
     },
     "execution_count": 21,
     "metadata": {},
     "output_type": "execute_result"
    }
   ],
   "source": [
    "tot_W.dtype"
   ]
  },
  {
   "cell_type": "code",
   "execution_count": 17,
   "id": "2eac63ef",
   "metadata": {},
   "outputs": [
    {
     "ename": "ValueError",
     "evalue": "operands could not be broadcast together with shapes (1,15) (15,2) ",
     "output_type": "error",
     "traceback": [
      "\u001b[0;31m---------------------------------------------------------------------------\u001b[0m",
      "\u001b[0;31mValueError\u001b[0m                                Traceback (most recent call last)",
      "Input \u001b[0;32mIn [17]\u001b[0m, in \u001b[0;36m<cell line: 1>\u001b[0;34m()\u001b[0m\n\u001b[0;32m----> 1\u001b[0m y1_in \u001b[38;5;241m=\u001b[39m \u001b[43mnp\u001b[49m\u001b[38;5;241;43m.\u001b[39;49m\u001b[43mmultiply\u001b[49m\u001b[43m(\u001b[49m\u001b[43mtest1\u001b[49m\u001b[43m,\u001b[49m\u001b[43m \u001b[49m\u001b[43mtot_W\u001b[49m\u001b[43m)\u001b[49m\n\u001b[1;32m      2\u001b[0m y1_in\n",
      "\u001b[0;31mValueError\u001b[0m: operands could not be broadcast together with shapes (1,15) (15,2) "
     ]
    }
   ],
   "source": [
    "y1_in = np.multiply(test1, tot_W)\n",
    "y1_in"
   ]
  }
 ],
 "metadata": {
  "kernelspec": {
   "display_name": "Python 3 (ipykernel)",
   "language": "python",
   "name": "python3"
  },
  "language_info": {
   "codemirror_mode": {
    "name": "ipython",
    "version": 3
   },
   "file_extension": ".py",
   "mimetype": "text/x-python",
   "name": "python",
   "nbconvert_exporter": "python",
   "pygments_lexer": "ipython3",
   "version": "3.9.12"
  }
 },
 "nbformat": 4,
 "nbformat_minor": 5
}
