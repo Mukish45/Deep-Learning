{
 "cells": [
  {
   "cell_type": "code",
   "execution_count": 1,
   "id": "1ed7ee61",
   "metadata": {},
   "outputs": [],
   "source": [
    "import numpy as np"
   ]
  },
  {
   "cell_type": "markdown",
   "id": "8a2d7f48",
   "metadata": {},
   "source": [
    "# Training"
   ]
  },
  {
   "cell_type": "code",
   "execution_count": 2,
   "id": "ee2c6304",
   "metadata": {},
   "outputs": [],
   "source": [
    "ip1 = np.array([[1, 1, 1],\n",
    "      [1, -1, -1],\n",
    "      [1, 1, 1],\n",
    "      [1, -1, -1],\n",
    "      [1, 1, 1]])\n",
    "\n",
    "t1 = np.array([[-1, 1]])"
   ]
  },
  {
   "cell_type": "code",
   "execution_count": 3,
   "id": "1fb40ffc",
   "metadata": {},
   "outputs": [],
   "source": [
    "ip1 = ip1.flatten()"
   ]
  },
  {
   "cell_type": "code",
   "execution_count": 6,
   "id": "89b4501d",
   "metadata": {},
   "outputs": [
    {
     "data": {
      "text/plain": [
       "array([[ 1,  1,  1,  1, -1, -1,  1,  1,  1,  1, -1, -1,  1,  1,  1]])"
      ]
     },
     "execution_count": 6,
     "metadata": {},
     "output_type": "execute_result"
    }
   ],
   "source": [
    "ip1 = np.array([ip1])\n",
    "ip1"
   ]
  },
  {
   "cell_type": "code",
   "execution_count": 7,
   "id": "824f84bf",
   "metadata": {},
   "outputs": [
    {
     "data": {
      "text/plain": [
       "(1, 15)"
      ]
     },
     "execution_count": 7,
     "metadata": {},
     "output_type": "execute_result"
    }
   ],
   "source": [
    "ip1.shape"
   ]
  },
  {
   "cell_type": "code",
   "execution_count": 8,
   "id": "b9700631",
   "metadata": {},
   "outputs": [
    {
     "data": {
      "text/plain": [
       "array([[-1,  1],\n",
       "       [-1,  1],\n",
       "       [-1,  1],\n",
       "       [-1,  1],\n",
       "       [ 1, -1],\n",
       "       [ 1, -1],\n",
       "       [-1,  1],\n",
       "       [-1,  1],\n",
       "       [-1,  1],\n",
       "       [-1,  1],\n",
       "       [ 1, -1],\n",
       "       [ 1, -1],\n",
       "       [-1,  1],\n",
       "       [-1,  1],\n",
       "       [-1,  1]])"
      ]
     },
     "execution_count": 8,
     "metadata": {},
     "output_type": "execute_result"
    }
   ],
   "source": [
    "w1 = np.multiply((np.transpose(ip1)),t1)\n",
    "w1"
   ]
  },
  {
   "cell_type": "code",
   "execution_count": 12,
   "id": "f8aa5119",
   "metadata": {},
   "outputs": [],
   "source": [
    "ip2 = np.array([[1, 1, 1],\n",
    "               [1, -1, -1],\n",
    "               [1, 1, 1],\n",
    "               [1, -1, -1],\n",
    "               [1, -1, -1]])\n",
    "\n",
    "ip2 = ip2.flatten()\n",
    "ip2 = np.array([ip2])"
   ]
  },
  {
   "cell_type": "code",
   "execution_count": 13,
   "id": "437fe75d",
   "metadata": {},
   "outputs": [
    {
     "data": {
      "text/plain": [
       "array([[ 1,  1],\n",
       "       [ 1,  1],\n",
       "       [ 1,  1],\n",
       "       [ 1,  1],\n",
       "       [-1, -1],\n",
       "       [-1, -1],\n",
       "       [ 1,  1],\n",
       "       [ 1,  1],\n",
       "       [ 1,  1],\n",
       "       [ 1,  1],\n",
       "       [-1, -1],\n",
       "       [-1, -1],\n",
       "       [ 1,  1],\n",
       "       [-1, -1],\n",
       "       [-1, -1]])"
      ]
     },
     "execution_count": 13,
     "metadata": {},
     "output_type": "execute_result"
    }
   ],
   "source": [
    "t2 = np.array([[1, 1]])\n",
    "w2 = np.multiply((np.transpose(ip2)),t2)\n",
    "w2"
   ]
  },
  {
   "cell_type": "code",
   "execution_count": 14,
   "id": "884188f4",
   "metadata": {},
   "outputs": [
    {
     "data": {
      "text/plain": [
       "array([[ 0,  2],\n",
       "       [ 0,  2],\n",
       "       [ 0,  2],\n",
       "       [ 0,  2],\n",
       "       [ 0, -2],\n",
       "       [ 0, -2],\n",
       "       [ 0,  2],\n",
       "       [ 0,  2],\n",
       "       [ 0,  2],\n",
       "       [ 0,  2],\n",
       "       [ 0, -2],\n",
       "       [ 0, -2],\n",
       "       [ 0,  2],\n",
       "       [-2,  0],\n",
       "       [-2,  0]])"
      ]
     },
     "execution_count": 14,
     "metadata": {},
     "output_type": "execute_result"
    }
   ],
   "source": [
    "tot_W = w1 + w2\n",
    "tot_W"
   ]
  },
  {
   "cell_type": "markdown",
   "id": "c05193ed",
   "metadata": {},
   "source": [
    "# Testing"
   ]
  },
  {
   "cell_type": "code",
   "execution_count": 15,
   "id": "ba773cd2",
   "metadata": {},
   "outputs": [],
   "source": [
    "test1 = np.array([[1, 1, 1],\n",
    "                 [1, -1, -1],\n",
    "                 [1, 1, 1],\n",
    "                 [1, -1, -1],\n",
    "                 [1, 1, 1]])\n",
    "test1 = test1.flatten()\n",
    "test1 = np.array([test1])"
   ]
  },
  {
   "cell_type": "code",
   "execution_count": 16,
   "id": "e371008c",
   "metadata": {},
   "outputs": [
    {
     "data": {
      "text/plain": [
       "array([[ 1,  1,  1,  1, -1, -1,  1,  1,  1,  1, -1, -1,  1,  1,  1]])"
      ]
     },
     "execution_count": 16,
     "metadata": {},
     "output_type": "execute_result"
    }
   ],
   "source": [
    "test1"
   ]
  },
  {
   "cell_type": "code",
   "execution_count": 20,
   "id": "01ca4e3a",
   "metadata": {},
   "outputs": [
    {
     "data": {
      "text/plain": [
       "dtype('int64')"
      ]
     },
     "execution_count": 20,
     "metadata": {},
     "output_type": "execute_result"
    }
   ],
   "source": [
    "test1.dtype"
   ]
  },
  {
   "cell_type": "code",
   "execution_count": 21,
   "id": "f590ad76",
   "metadata": {},
   "outputs": [
    {
     "data": {
      "text/plain": [
       "dtype('int64')"
      ]
     },
     "execution_count": 21,
     "metadata": {},
     "output_type": "execute_result"
    }
   ],
   "source": [
    "tot_W.dtype"
   ]
  },
  {
   "cell_type": "code",
   "execution_count": 22,
   "id": "87db0368",
   "metadata": {},
   "outputs": [
    {
     "data": {
      "text/plain": [
       "array([[-4, 26]])"
      ]
     },
     "execution_count": 22,
     "metadata": {},
     "output_type": "execute_result"
    }
   ],
   "source": [
    "y1_in = np.matmul(test1, tot_W)\n",
    "y1_in"
   ]
  },
  {
   "cell_type": "code",
   "execution_count": 25,
   "id": "0838034c",
   "metadata": {},
   "outputs": [],
   "source": [
    "def activation_fun(net_op):\n",
    "    for i in range(len(net_op)):\n",
    "        for j in range(len(net_op[i])):\n",
    "            if net_op[i][j] > 0:\n",
    "                net_op[i][j] = 1\n",
    "            else:\n",
    "                net_op[i][j] = -1\n",
    "    return net_op"
   ]
  },
  {
   "cell_type": "code",
   "execution_count": 26,
   "id": "05f1e10f",
   "metadata": {},
   "outputs": [
    {
     "data": {
      "text/plain": [
       "array([[-1,  1]])"
      ]
     },
     "execution_count": 26,
     "metadata": {},
     "output_type": "execute_result"
    }
   ],
   "source": [
    "op1 = activation_fun(y1_in)\n",
    "op1"
   ]
  }
 ],
 "metadata": {
  "kernelspec": {
   "display_name": "Python 3 (ipykernel)",
   "language": "python",
   "name": "python3"
  },
  "language_info": {
   "codemirror_mode": {
    "name": "ipython",
    "version": 3
   },
   "file_extension": ".py",
   "mimetype": "text/x-python",
   "name": "python",
   "nbconvert_exporter": "python",
   "pygments_lexer": "ipython3",
   "version": "3.9.12"
  }
 },
 "nbformat": 4,
 "nbformat_minor": 5
}
